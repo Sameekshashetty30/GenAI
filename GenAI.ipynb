{
  "cells": [
    {
      "cell_type": "markdown",
      "metadata": {
        "id": "view-in-github",
        "colab_type": "text"
      },
      "source": [
        "<a href=\"https://colab.research.google.com/github/Sameekshashetty30/GenAI/blob/main/GenAI.ipynb\" target=\"_parent\"><img src=\"https://colab.research.google.com/assets/colab-badge.svg\" alt=\"Open In Colab\"/></a>"
      ]
    },
    {
      "cell_type": "code",
      "execution_count": null,
      "metadata": {
        "colab": {
          "base_uri": "https://localhost:8080/"
        },
        "id": "QCRKuOnSNyCX",
        "outputId": "c9f4f41d-b00a-406d-c36f-b4ebc676140b"
      },
      "outputs": [
        {
          "name": "stdout",
          "output_type": "stream",
          "text": [
            "\u001b[?25l     \u001b[90m━━━━━━━━━━━━━━━━━━━━━━━━━━━━━━━━━━━━━━━━\u001b[0m \u001b[32m0.0/43.1 kB\u001b[0m \u001b[31m?\u001b[0m eta \u001b[36m-:--:--\u001b[0m\r\u001b[2K     \u001b[90m━━━━━━━━━━━━━━━━━━━━━━━━━━━━━━━━━━━━━━━━\u001b[0m \u001b[32m43.1/43.1 kB\u001b[0m \u001b[31m1.6 MB/s\u001b[0m eta \u001b[36m0:00:00\u001b[0m\n",
            "\u001b[?25h\u001b[?25l   \u001b[90m━━━━━━━━━━━━━━━━━━━━━━━━━━━━━━━━━━━━━━━━\u001b[0m \u001b[32m0.0/219.4 kB\u001b[0m \u001b[31m?\u001b[0m eta \u001b[36m-:--:--\u001b[0m\r\u001b[2K   \u001b[91m━━━━━━━━━━━━━━━━━━━━━━━━━━━━━━━━━━━━━━━\u001b[0m\u001b[90m╺\u001b[0m \u001b[32m215.0/219.4 kB\u001b[0m \u001b[31m9.7 MB/s\u001b[0m eta \u001b[36m0:00:01\u001b[0m\r\u001b[2K   \u001b[90m━━━━━━━━━━━━━━━━━━━━━━━━━━━━━━━━━━━━━━━━\u001b[0m \u001b[32m219.4/219.4 kB\u001b[0m \u001b[31m5.9 MB/s\u001b[0m eta \u001b[36m0:00:00\u001b[0m\n",
            "\u001b[?25h"
          ]
        }
      ],
      "source": [
        "%pip install --upgrade --quiet google-genai"
      ]
    },
    {
      "cell_type": "code",
      "execution_count": null,
      "metadata": {
        "id": "vtbOh703OlUh"
      },
      "outputs": [],
      "source": [
        "import sys\n",
        "if\"google.colab\" in sys.modules:\n",
        "  from google.colab import auth\n",
        "  auth.authenticate_user()"
      ]
    },
    {
      "cell_type": "code",
      "execution_count": null,
      "metadata": {
        "id": "gFVhkhtPOZ00"
      },
      "outputs": [],
      "source": [
        "from google.colab import userdata\n",
        "from google import genai\n",
        "\n",
        "\n",
        "GOOGLE_API_KEY = userdata.get('GOOGLE_API_KEY')\n",
        "client = genai.Client(api_key=GOOGLE_API_KEY)\n"
      ]
    },
    {
      "cell_type": "code",
      "execution_count": null,
      "metadata": {
        "id": "EALalqqTPQao"
      },
      "outputs": [],
      "source": [
        "MODEL_ID=\"gemini-2.0-flash\""
      ]
    },
    {
      "cell_type": "code",
      "execution_count": null,
      "metadata": {
        "colab": {
          "base_uri": "https://localhost:8080/",
          "height": 123
        },
        "id": "2GHHEpInP5Bn",
        "outputId": "1b7db900-d3e3-45a8-faf4-36364ffd522a"
      },
      "outputs": [
        {
          "data": {
            "application/vnd.google.colaboratory.intrinsic+json": {
              "type": "string"
            },
            "text/plain": [
              "\"An AI workshop can be a fantastic way to get hands-on experience with artificial intelligence and learn new skills. Here's a breakdown of what you might do in an AI workshop, broken down by potential topics and activities:\\n\\n**Common AI Workshop Topics:**\\n\\n*   **Introduction to AI Concepts:**\\n    *   What is AI, Machine Learning, Deep Learning?\\n    *   Different types of AI (supervised, unsupervised, reinforcement learning).\\n    *   AI applications in various industries.\\n    *   Ethical considerations in AI.\\n\\n*   **Machine Learning Basics:**\\n    *   Building and training simple machine learning models (e.g., linear regression, logistic regression).\\n    *   Data preparation, cleaning, and feature engineering.\\n    *   Model evaluation and validation.\\n    *   Using common machine learning libraries (e.g., Scikit-learn in Python).\\n\\n*   **Deep Learning Fundamentals:**\\n    *   Understanding neural networks.\\n    *   Building and training simple neural networks using frameworks like TensorFlow or PyTorch.\\n    *   Image classification, natural language processing, or other deep learning tasks.\\n\\n*   **Natural Language Processing (NLP):**\\n    *   Text analysis and understanding.\\n    *   Sentiment analysis, topic modeling, text summarization.\\n    *   Building chatbots or language models.\\n    *   Using NLP libraries like NLTK or spaCy.\\n\\n*   **Computer Vision:**\\n    *   Image recognition and object detection.\\n    *   Image processing techniques.\\n    *   Building image classification models.\\n    *   Using computer vision libraries like OpenCV.\\n\\n*   **Reinforcement Learning:**\\n    *   Understanding reinforcement learning concepts (agents, environments, rewards).\\n    *   Building simple reinforcement learning agents.\\n\\n*   **Specific AI Applications:**\\n    *   AI in healthcare, finance, marketing, or other domains.\\n    *   Case studies of AI projects.\\n\\n**Possible Activities You Might Participate In:**\\n\\n*   **Interactive Lectures and Discussions:**\\n    *   Learning core AI concepts from instructors.\\n    *   Participating in discussions about the implications of AI.\\n    *   Asking questions and getting clarifications.\\n\\n*   **Hands-On Coding Exercises:**\\n    *   Writing Python code to implement machine learning algorithms.\\n    *   Building and training AI models using popular frameworks (TensorFlow, PyTorch, Scikit-learn).\\n    *   Working with real-world datasets.\\n\\n*   **Group Projects:**\\n    *   Collaborating with other participants on a small AI project.\\n    *   Applying AI techniques to solve a specific problem.\\n    *   Presenting your project to the group.\\n\\n*   **Case Studies:**\\n    *   Analyzing real-world AI applications and their impact.\\n    *   Discussing the challenges and opportunities of AI implementation.\\n\\n*   **Demonstrations:**\\n    *   Seeing live demos of AI-powered tools and applications.\\n    *   Exploring different AI platforms and services.\\n\\n*   **Q&A Sessions with Experts:**\\n    *   Getting insights from AI professionals.\\n    *   Asking questions about career paths in AI.\\n\\n*   **Networking Opportunities:**\\n    *   Meeting other people interested in AI.\\n    *   Connecting with instructors and potential employers.\\n\\n**Examples of Specific Tasks You Might Do:**\\n\\n*   **Build a linear regression model to predict house prices.**\\n*   **Classify images of cats and dogs using a convolutional neural network (CNN).**\\n*   **Perform sentiment analysis on customer reviews.**\\n*   **Create a chatbot that can answer simple questions.**\\n*   **Develop an AI agent that can play a game.**\\n*   **Clean and prepare a dataset for machine learning.**\\n*   **Visualize data to identify patterns and insights.**\\n\\n**Before the Workshop:**\\n\\n*   **Check the prerequisites:**  Make sure you have the necessary programming skills (usually Python) and mathematical background (linear algebra, calculus, statistics).\\n*   **Install required software:**  The workshop organizers will likely provide instructions on installing Python, libraries like TensorFlow, PyTorch, Scikit-learn, and any other necessary tools.\\n*   **Review basic Python:** Brush up on your Python fundamentals if needed.\\n*   **Set your goals:**  What do you hope to achieve from the workshop?  Knowing your goals will help you focus and get the most out of the experience.\\n\\n**During the Workshop:**\\n\\n*   **Participate actively:** Ask questions, engage in discussions, and contribute to group projects.\\n*   **Take notes:**  Record key concepts and techniques.\\n*   **Don't be afraid to experiment:**  Try different approaches and see what works.\\n*   **Help others:** If you understand something, offer to help your fellow participants.\\n*   **Network:**  Connect with other attendees and the instructors.\\n\\n**After the Workshop:**\\n\\n*   **Review your notes and code:**  Reinforce what you learned.\\n*   **Practice what you learned:**  Work on personal AI projects.\\n*   **Continue learning:** Explore online courses, books, and other resources to deepen your knowledge.\\n*   **Stay connected:** Keep in touch with the people you met at the workshop.\\n\\nBy actively participating and continuing to learn after the workshop, you can gain valuable AI skills and knowledge that can be applied to a wide range of applications. Good luck!\\n\""
            ]
          },
          "execution_count": 8,
          "metadata": {},
          "output_type": "execute_result"
        }
      ],
      "source": [
        "prompt=\"What can i do in AI workshop\"\n",
        "response=client.models.generate_content(model=MODEL_ID,contents=prompt)\n",
        "response.text"
      ]
    },
    {
      "cell_type": "code",
      "execution_count": null,
      "metadata": {
        "colab": {
          "base_uri": "https://localhost:8080/",
          "height": 123
        },
        "id": "rrG4LWMiRIfX",
        "outputId": "1332f26e-e0db-4e3e-efba-44dafa67cd8a"
      },
      "outputs": [
        {
          "data": {
            "application/vnd.google.colaboratory.intrinsic+json": {
              "type": "string"
            },
            "text/plain": [
              "'Okay, to give you the best recommendations for a weekend trip, I need a little more information!  Tell me:\\n\\n**1. Where are you located (or where will you be starting your trip)?**  This is the most important factor.  A \"best place\" in California is very different from a \"best place\" in New York.  Even a general region (like \"the Midwest USA\") will help.\\n\\n**2. What kind of weekend are you looking for?**  Think about your interests:\\n\\n*   **Relaxing/Romantic:** Quiet towns, spas, vineyards, beaches, cozy cabins.\\n*   **Adventurous:** Hiking, camping, rock climbing, water sports, exploring nature.\\n*   **Cultural/Historical:** Museums, historical sites, art galleries, architectural tours.\\n*   **Foodie:** Great restaurants, farmers markets, wineries/breweries, cooking classes.\\n*   **Family-Friendly:** Theme parks, zoos, aquariums, children\\'s museums, outdoor activities.\\n*   **Budget-Friendly:** Camping, free museums, state parks, local events.\\n*   **Nightlife/Entertainment:** Cities with live music, bars, theaters, clubs.\\n\\n**3. Who are you traveling with?** (Alone, couple, family with young kids, group of friends, etc.)\\n\\n**4. What\\'s your budget?** (Luxury, Mid-Range, Budget)\\n\\n**5. What time of year are you planning to travel?** (Seasonality matters a lot)\\n\\n**Example:**\\n\\n\"I\\'m located in **Chicago**, looking for a **relaxing weekend trip** with my **partner** in the **fall**, with a **mid-range budget**. We enjoy **nature and good food**.\"\\n\\nOnce I have this information, I can give you some really tailored and helpful suggestions!\\n'"
            ]
          },
          "execution_count": 9,
          "metadata": {},
          "output_type": "execute_result"
        }
      ],
      "source": [
        "prompt=\"best places to visit in weekend\"\n",
        "response=client.models.generate_content(model=MODEL_ID,contents=prompt)\n",
        "response.text"
      ]
    },
    {
      "cell_type": "code",
      "execution_count": null,
      "metadata": {
        "colab": {
          "base_uri": "https://localhost:8080/"
        },
        "id": "xHtQakWuVMkC",
        "outputId": "0c13e22c-74f8-4314-83a0-8d7ad96bafb5"
      },
      "outputs": [
        {
          "name": "stdout",
          "output_type": "stream",
          "text": [
            "Okay, to give you the best recommendations, I need a little more information!  Tell me:\n",
            "\n",
            "**1. Where are you located (or willing to travel from)?**  This is the most important factor.  A \"weekend trip\" from New York City is very different than a weekend trip from Los Angeles.  Give me a city, state, or even a general region.\n",
            "\n",
            "**2. What's your budget?**  Are you looking for luxury accommodations, budget-\n"
          ]
        }
      ],
      "source": [
        "from IPython.display import Markdown, display\n",
        "from google import genai\n",
        "from google.genai.types import GenerateContentConfig\n",
        "generation_config=GenerateContentConfig(temperature=0.1,max_output_tokens=100)\n",
        "prompt=\"best places to visit in weekend\"\n",
        "response=client.models.generate_content(model=MODEL_ID,contents=prompt,config=generation_config)\n",
        "print(response.text)"
      ]
    },
    {
      "cell_type": "markdown",
      "metadata": {
        "id": "EcKKHUuNWT3K"
      },
      "source": []
    },
    {
      "cell_type": "code",
      "execution_count": null,
      "metadata": {
        "colab": {
          "base_uri": "https://localhost:8080/"
        },
        "id": "63IByz4NVZ9W",
        "outputId": "804f947f-d2aa-4aed-f86b-0e7f3b882f1a"
      },
      "outputs": [
        {
          "name": "stdout",
          "output_type": "stream",
          "text": [
            "Today is Wednesday, May 8th, 2024.\n",
            "\n"
          ]
        }
      ],
      "source": [
        "generation_config=GenerateContentConfig(temperature=0.1,max_output_tokens=100)\n",
        "prompt=\"what dau is it today\"\n",
        "response=client.models.generate_content(model=MODEL_ID,contents=prompt,config=generation_config)\n",
        "print(response.text)\n"
      ]
    },
    {
      "cell_type": "code",
      "execution_count": null,
      "metadata": {
        "colab": {
          "base_uri": "https://localhost:8080/",
          "height": 163
        },
        "id": "-yVqZZgKhgrW",
        "outputId": "7853a518-98e2-4879-8e24-775c13750245"
      },
      "outputs": [
        {
          "data": {
            "text/markdown": "Voici quelques bonnes destinations pour un week-end :\n\n* **Paris:** Toujours une bonne idée! Des musées, des restaurants, des promenades romantiques le long de la Seine...\n\n* **La Normandie:** De belles plages, des villes historiques comme Rouen et Honfleur, et une excellente cuisine.\n\n* **La Bretagne:** Des paysages sauvages, des villages de pêcheurs pittoresques et une culture celtique unique.\n\n* **Les Châteaux de la Loire:** Explorez des châteaux magnifiques et des jardins somptueux.\n\nLe meilleur endroit pour vous dépendra de vos intérêts et de votre budget.\n",
            "text/plain": [
              "<IPython.core.display.Markdown object>"
            ]
          },
          "metadata": {},
          "output_type": "display_data"
        }
      ],
      "source": [
        "generation_config=GenerateContentConfig(temperature=0.1,max_output_tokens=100)\n",
        "chat=client.chats.create(\n",
        "    model=MODEL_ID,\n",
        "    config=GenerateContentConfig(\n",
        "        system_instruction=[\n",
        "            \"You're a language translator.\",\n",
        "            \"Your mission is to translate text in English to French.\",\n",
        "        ]\n",
        "    ),\n",
        ")\n",
        "prompt=\"best places to visit in weekend\"\n",
        "response=chat.send_message(prompt)\n",
        "display(Markdown(response.text))"
      ]
    },
    {
      "cell_type": "code",
      "execution_count": null,
      "metadata": {
        "colab": {
          "base_uri": "https://localhost:8080/",
          "height": 46
        },
        "id": "M1vjpDIIhtpd",
        "outputId": "554b9751-5077-42f6-993f-4bf3f813be60"
      },
      "outputs": [
        {
          "data": {
            "text/markdown": "Okay, I understand. I'm ready to analyze the sentiment of tweets. Give me the tweet and I'll tell you if the sentiment is positive, neutral, or negative.\n",
            "text/plain": [
              "<IPython.core.display.Markdown object>"
            ]
          },
          "metadata": {},
          "output_type": "display_data"
        }
      ],
      "source": [
        "prompt=\"\"\"Decide whether the tweets sentiment is positive or neutral or negative.\n",
        "Tweet:I loved the new youtube video you made\n",
        "sentimet:positive\n",
        "tweet:That was awful,super boring\n",
        "sentiment:negative\n",
        "\n",
        "\"\"\"\n",
        "response=client.models.generate_content(model=MODEL_ID,contents=prompt,config=generation_config)\n",
        "display(Markdown(response.text))"
      ]
    },
    {
      "cell_type": "code",
      "execution_count": null,
      "metadata": {
        "id": "-vv2STTgjgmH"
      },
      "outputs": [],
      "source": [
        "\n",
        "from IPython.display import HTML, Image, Markdown, display\n",
        "from google import genai\n",
        "from google.genai.types import (\n",
        "    FunctionDeclaration,\n",
        "    GenerateContentConfig,\n",
        "    GoogleSearch,\n",
        "    HarmBlockThreshold,\n",
        "    HarmCategory,\n",
        "    Part,\n",
        "    SafetySetting,\n",
        "    ThinkingConfig,\n",
        "    Tool,\n",
        "    ToolCodeExecution,\n",
        ")\n"
      ]
    },
    {
      "cell_type": "code",
      "execution_count": null,
      "metadata": {
        "id": "IlSWoB8vnx09"
      },
      "outputs": [],
      "source": [
        "MODEL_ID=\"gemini-2.5-flash\""
      ]
    },
    {
      "cell_type": "code",
      "execution_count": null,
      "metadata": {
        "colab": {
          "base_uri": "https://localhost:8080/",
          "height": 279
        },
        "id": "quPdzQ3snReE",
        "outputId": "1ae66804-b49c-4b88-ab54-07b917d933bf"
      },
      "outputs": [
        {
          "data": {
            "text/markdown": "Welcome to the lab! It's great to have you here. Don't worry about it being your first question; that's exactly what we're here for. Think of this as a safe space for exploration and discovery.\n\nSo, tell me, what's on your mind? What's your first question? No matter how big or small, simple or complex, I'm ready to help you explore it.\n\n**Just a few things to keep in mind, since we're in the lab:**\n\n*   **Precision is key:** When you ask your question, try to be as clear and specific as possible. The more detail you give me, the better I can understand and assist you.\n*   **Experimentation is encouraged:** Don't be afraid to ask follow-up questions, challenge assumptions, or propose different angles. That's how we learn and innovate.\n*   **Safety first (intellectually speaking):** There are no \"dumb\" questions here. If you're unsure about something, ask! It's better to clarify than to proceed with a misunderstanding.\n*   **Tools at our disposal:** I have a vast amount of information and analytical capabilities. Let me know if you need me to access specific data, break down complex concepts, or generate ideas.\n\nAlright, the lab coat is on, the instruments are ready. **What's your question?**",
            "text/plain": [
              "<IPython.core.display.Markdown object>"
            ]
          },
          "metadata": {},
          "output_type": "display_data"
        }
      ],
      "source": [
        "#THINKING_BUDGET=1024 # @param {type: \"integer\"}\n",
        "response=client.models.generate_content(\n",
        "    model=MODEL_ID,\n",
        "    contents=\"this is my first question,rememer that you are in lab\",\n",
        "    config=GenerateContentConfig(\n",
        "        thinking_config=ThinkingConfig(\n",
        "            thinking_budget=0,\n",
        "            )\n",
        "    ),\n",
        ")\n",
        "display(Markdown(response.text))"
      ]
    },
    {
      "cell_type": "code",
      "execution_count": null,
      "metadata": {
        "id": "0hMK3f1X6XpK"
      },
      "outputs": [],
      "source": [
        "thinking_config=ThinkingConfig(\n",
        "            thinking_budget=0)"
      ]
    },
    {
      "cell_type": "code",
      "execution_count": null,
      "metadata": {
        "id": "4V6Zmbc95J63"
      },
      "outputs": [],
      "source": [
        "chat=client.chats.create(\n",
        "    model=MODEL_ID,\n",
        "    config=GenerateContentConfig(thinking_config=thinking_config),\n",
        "\n",
        "\n",
        ")"
      ]
    },
    {
      "cell_type": "code",
      "execution_count": null,
      "metadata": {
        "colab": {
          "base_uri": "https://localhost:8080/"
        },
        "id": "jakouM-I6e5z",
        "outputId": "ecad0975-0471-46ea-daef-d63e5ca3826a"
      },
      "outputs": [
        {
          "data": {
            "text/plain": [
              "<google.genai.chats.Chat at 0x7a16234fb310>"
            ]
          },
          "execution_count": 19,
          "metadata": {},
          "output_type": "execute_result"
        }
      ],
      "source": [
        "chat"
      ]
    },
    {
      "cell_type": "code",
      "execution_count": null,
      "metadata": {
        "colab": {
          "base_uri": "https://localhost:8080/",
          "height": 46
        },
        "id": "Xsk0-LJT6etJ",
        "outputId": "243dda8b-4abd-499e-e59a-ed9f97b98ce4"
      },
      "outputs": [
        {
          "data": {
            "text/markdown": "Welcome to the lab! I'm ready for your first question. What's on your mind?",
            "text/plain": [
              "<IPython.core.display.Markdown object>"
            ]
          },
          "metadata": {},
          "output_type": "display_data"
        }
      ],
      "source": [
        "response=chat.send_message(\"this is my first question,rememer that you are in lab\")\n",
        "display(Markdown(response.text))"
      ]
    },
    {
      "cell_type": "code",
      "execution_count": null,
      "metadata": {
        "colab": {
          "base_uri": "https://localhost:8080/",
          "height": 46
        },
        "id": "2LatzIcK6vK5",
        "outputId": "9b3e63f1-1295-403c-a203-a12ee7984630"
      },
      "outputs": [
        {
          "data": {
            "text/markdown": "Good afternoon to you too! I've noted that. Now, what's your question for today?",
            "text/plain": [
              "<IPython.core.display.Markdown object>"
            ]
          },
          "metadata": {},
          "output_type": "display_data"
        }
      ],
      "source": [
        "response=chat.send_message(\"remember what i say ,first i am telling good afternoon\")\n",
        "display(Markdown(response.text))"
      ]
    },
    {
      "cell_type": "code",
      "execution_count": null,
      "metadata": {
        "colab": {
          "base_uri": "https://localhost:8080/",
          "height": 46
        },
        "id": "A-7-Rghq6u61",
        "outputId": "0ec5dec8-c1cc-4e01-d00d-06fda1a2b307"
      },
      "outputs": [
        {
          "data": {
            "text/markdown": "You said \"Good afternoon.\"",
            "text/plain": [
              "<IPython.core.display.Markdown object>"
            ]
          },
          "metadata": {},
          "output_type": "display_data"
        }
      ],
      "source": [
        "response=chat.send_message(\"what did i say first\")\n",
        "display(Markdown(response.text))"
      ]
    },
    {
      "cell_type": "code",
      "execution_count": null,
      "metadata": {
        "colab": {
          "base_uri": "https://localhost:8080/",
          "height": 70
        },
        "id": "708PhYII7VNx",
        "outputId": "ed33a666-2e4f-4035-b1eb-9672ee7c1eae"
      },
      "outputs": [
        {
          "data": {
            "text/markdown": "Alright, noted. In the afternoon, you covered the memory part of Gemini.\n\nNow, what's your question, or what would you like to discuss or do next in our lab session?",
            "text/plain": [
              "<IPython.core.display.Markdown object>"
            ]
          },
          "metadata": {},
          "output_type": "display_data"
        }
      ],
      "source": [
        "response=chat.send_message(\"in the afternoon i did cover the memory part of gemini\")\n",
        "display(Markdown(response.text))"
      ]
    },
    {
      "cell_type": "code",
      "execution_count": null,
      "metadata": {
        "colab": {
          "base_uri": "https://localhost:8080/"
        },
        "id": "CTH1MkQi7VCq",
        "outputId": "5bde9cf2-f7a3-4610-cb55-8c4102e65c5b"
      },
      "outputs": [
        {
          "data": {
            "text/plain": [
              "[UserContent(\n",
              "   parts=[\n",
              "     Part(\n",
              "       text='this is my first question,rememer that you are in lab'\n",
              "     ),\n",
              "   ],\n",
              "   role='user'\n",
              " ),\n",
              " Content(\n",
              "   parts=[\n",
              "     Part(\n",
              "       text=\"Welcome to the lab! I'm ready for your first question. What's on your mind?\"\n",
              "     ),\n",
              "   ],\n",
              "   role='model'\n",
              " ),\n",
              " UserContent(\n",
              "   parts=[\n",
              "     Part(\n",
              "       text='remember what i say ,first i am telling good afternoon'\n",
              "     ),\n",
              "   ],\n",
              "   role='user'\n",
              " ),\n",
              " Content(\n",
              "   parts=[\n",
              "     Part(\n",
              "       text=\"Good afternoon to you too! I've noted that. Now, what's your question for today?\"\n",
              "     ),\n",
              "   ],\n",
              "   role='model'\n",
              " ),\n",
              " UserContent(\n",
              "   parts=[\n",
              "     Part(\n",
              "       text='what did i say first'\n",
              "     ),\n",
              "   ],\n",
              "   role='user'\n",
              " ),\n",
              " Content(\n",
              "   parts=[\n",
              "     Part(\n",
              "       text='You said \"Good afternoon.\"'\n",
              "     ),\n",
              "   ],\n",
              "   role='model'\n",
              " ),\n",
              " UserContent(\n",
              "   parts=[\n",
              "     Part(\n",
              "       text='in the afternoon i did cover the memory part of gemini'\n",
              "     ),\n",
              "   ],\n",
              "   role='user'\n",
              " ),\n",
              " Content(\n",
              "   parts=[\n",
              "     Part(\n",
              "       text=\"\"\"Alright, noted. In the afternoon, you covered the memory part of Gemini.\n",
              " \n",
              " Now, what's your question, or what would you like to discuss or do next in our lab session?\"\"\"\n",
              "     ),\n",
              "   ],\n",
              "   role='model'\n",
              " )]"
            ]
          },
          "execution_count": 24,
          "metadata": {},
          "output_type": "execute_result"
        }
      ],
      "source": [
        "chat.get_history(0)"
      ]
    },
    {
      "cell_type": "code",
      "execution_count": null,
      "metadata": {
        "colab": {
          "base_uri": "https://localhost:8080/",
          "height": 93
        },
        "id": "yt8ygXvX7U58",
        "outputId": "14007c9f-3525-4e5a-addd-e0094d938eed"
      },
      "outputs": [
        {
          "data": {
            "text/markdown": "AJIET has two distinct departments related to Computer Science, each with its own Head of Department (HOD).\n\nDr. Antony P J is the Vice Principal and HOD of the Department of Computer Science and Engineering.\n\nDr. Chanchal Antony is the HOD of the Department of Computer Science & Engineering (Artificial Intelligence & Machine Learning).",
            "text/plain": [
              "<IPython.core.display.Markdown object>"
            ]
          },
          "metadata": {},
          "output_type": "display_data"
        }
      ],
      "source": [
        "google_search_tool=Tool(google_search=GoogleSearch)\n",
        "response=client.models.generate_content(\n",
        "model=MODEL_ID,\n",
        "    contents=\"who is the hod of cse at ajiet\",\n",
        "    config=GenerateContentConfig(tools=[google_search_tool]),\n",
        "\n",
        "    )\n",
        "display(Markdown(response.text))"
      ]
    },
    {
      "cell_type": "code",
      "execution_count": null,
      "metadata": {
        "colab": {
          "base_uri": "https://localhost:8080/",
          "height": 104
        },
        "id": "vM6mb_sS7wQn",
        "outputId": "2fc0b055-ba01-4043-aa01-294fa7dc19a8"
      },
      "outputs": [
        {
          "data": {
            "text/markdown": "The Head of Department (HOD) for Information Science and Engineering (ISE) at AJIET is Dr. John Prakash Veigas.\n\nIt appears there might be some older information suggesting Dr. Nagesh H.R. as the HOD of ISE, but more recent sources confirm Dr. John Prakash Veigas in this role.Dr. John Prakash Veigas is the Head of Department (HOD) for Information Science and Engineering (ISE) at AJIET. While some older listings may show Dr. Nagesh H.R. as HOD of ISE, more current information indicates Dr. John Prakash Veigas in this position.",
            "text/plain": [
              "<IPython.core.display.Markdown object>"
            ]
          },
          "metadata": {},
          "output_type": "display_data"
        }
      ],
      "source": [
        "google_search_tool=Tool(google_search=GoogleSearch)\n",
        "response=client.models.generate_content(\n",
        "model=MODEL_ID,\n",
        "    contents=\"who is the hod of ise at ajiet\",\n",
        "    config=GenerateContentConfig(tools=[google_search_tool]),\n",
        "\n",
        "    )\n",
        "display(Markdown(response.text))"
      ]
    },
    {
      "cell_type": "code",
      "execution_count": null,
      "metadata": {
        "colab": {
          "base_uri": "https://localhost:8080/",
          "height": 209
        },
        "id": "2w92yahp_T27",
        "outputId": "2c9b47d9-eacb-437c-f2d2-e9aa2a024709"
      },
      "outputs": [
        {
          "data": {
            "text/markdown": "As of August 6, 2025, the stock value of State Bank of India (SBI) is approximately ₹806.50.\n\nHere's a snapshot of its recent performance:\n*   **Current Price:** ₹806.50 (as of 1:00 PM UTC, August 6, 2025)\n*   **Today's High:** ₹810.20\n*   **Today's Low:** ₹799.00\n*   **Previous Close:** ₹800.60\n\nPlease note that stock prices are subject to continuous change throughout the trading day.The stock value of State Bank of India (SBI) as of August 6, 2025, is approximately ₹806.50.\n\nDuring today's trading session, SBI's share price reached a high of ₹810.20 and a low of ₹799.00, with its previous close being ₹800.60.",
            "text/plain": [
              "<IPython.core.display.Markdown object>"
            ]
          },
          "metadata": {},
          "output_type": "display_data"
        }
      ],
      "source": [
        "google_search_tool=Tool(google_search=GoogleSearch)\n",
        "response=client.models.generate_content(\n",
        "model=MODEL_ID,\n",
        "    contents=\"what is the stock value of sbi today\",\n",
        "    config=GenerateContentConfig(tools=[google_search_tool]),\n",
        "\n",
        "    )\n",
        "display(Markdown(response.text))"
      ]
    },
    {
      "cell_type": "code",
      "execution_count": null,
      "metadata": {
        "colab": {
          "base_uri": "https://localhost:8080/",
          "height": 1000
        },
        "id": "m1A2lJxQ_vzY",
        "outputId": "94014575-3d4c-4f9f-e6e2-616e6a8f5847"
      },
      "outputs": [
        {
          "data": {
            "text/markdown": "Today's date is Wednesday, August 6, 2025.\nAs of Wednesday, August 6, 2025, the State Bank of India (SBI) stock value is as follows:\n\n*   On the NSE, the SBI share price is Rs 806.50 as of 1:00 PM IST.\n*   Another source indicates the SBI stock price today as 809.90.\n*   Angel One reports the SBI (SBIN) share price on NSE and BSE as Rs 805.15 as of August 6, 2025.\n*   INDmoney shows the SBI share price today at ₹800.5 as of 11:52 AM IST.\n\nThe stock has seen a slight increase of 0.74% from its previous close of Rs 800.60. The 52-week high for SBI share price was Rs 875.5 and the 52-week low was Rs 679.65.",
            "text/plain": [
              "<IPython.core.display.Markdown object>"
            ]
          },
          "metadata": {},
          "output_type": "display_data"
        },
        {
          "name": "stdout",
          "output_type": "stream",
          "text": [
            "grounding_chunks=[GroundingChunk(\n",
            "  web=GroundingChunkWeb(\n",
            "    title='indiatimes.com',\n",
            "    uri='https://vertexaisearch.cloud.google.com/grounding-api-redirect/AUZIYQHwKiMZczxiBt_I5HsDHZLmhUrxKp8VaiOZlXp3PJuSXKNYV_QJkAz4HlaVlGMe9gYWFzddFpXH-pC-fPpoKo3POHiWHgxjND4IKD0ujYLnmHs7Yk3UmwPOSFnxuI2QkE2Unv7yoRK6w61OkqFFoG0oU7rYKl6oF8BQBru9NDOu-bjjbyNWEbxgleTAxf-6'\n",
            "  )\n",
            "), GroundingChunk(\n",
            "  web=GroundingChunkWeb(\n",
            "    title='investing.com',\n",
            "    uri='https://vertexaisearch.cloud.google.com/grounding-api-redirect/AUZIYQH04GknTHqnt-E1jAjfW12yn-rvrHJUQ4H7EvUMpHOekC2E_O3wxlgylH8-d1PO27CYIze0Y8j1RQQmaTJMqb1psy4bGM4jTYlDRIiY2yekmXOnWVFlkGi8ZmGmr3yeF_xOyLSV0snAq-vXU8Nvaumz-w=='\n",
            "  )\n",
            "), GroundingChunk(\n",
            "  web=GroundingChunkWeb(\n",
            "    title='angelone.in',\n",
            "    uri='https://vertexaisearch.cloud.google.com/grounding-api-redirect/AUZIYQER3WksiqJqDl6EvEWGpETClbxL4IEgjAS_BZ8W9sG-TzO3OYhBE5Mewt9xPK00N9TVDGIqWz7GHbWo1LFvMVTgHZEkxdAUVE-onHxdB_lhQfDMrkABs3-0twjas69nhr8vaw6jQanTi5HhfwHU'\n",
            "  )\n",
            "), GroundingChunk(\n",
            "  web=GroundingChunkWeb(\n",
            "    title='indmoney.com',\n",
            "    uri='https://vertexaisearch.cloud.google.com/grounding-api-redirect/AUZIYQExIf9pXQd9UXfxkK7nCeHn6rexKAYoJ-QlxgDF4Aw48KsxpEt5C01vudcaxrS8sHGvLSKYs29hJBJPL3O82HtBxw9zOP8joDDAGnAs00EfPsCED89l78vVBEcnV9EM7PYtvH9lvA4RgOI9tmhMn91AVXXqvKMVLa_aRA=='\n",
            "  )\n",
            "), GroundingChunk(\n",
            "  web=GroundingChunkWeb(\n",
            "    title='icicidirect.com',\n",
            "    uri='https://vertexaisearch.cloud.google.com/grounding-api-redirect/AUZIYQG5vMbBupA7yJe3rEyAq_Dl2UKO4YqdqIV0G8sT63ZJ-fdfEDA0qSUFVfYzYgCVuwcs1CjFrl95XLEjRQASEOSR8Y3T8BJnPXxQSW8IJiIHIrtftCqe3DMWYoMGQYe3bkbBAWB_nb33w0kyd7_X0kPnIgz1qbxjFs6KMCoYVg=='\n",
            "  )\n",
            ")] grounding_supports=[GroundingSupport(\n",
            "  grounding_chunk_indices=[\n",
            "    0,\n",
            "  ],\n",
            "  segment=Segment(\n",
            "    end_index=201,\n",
            "    start_index=134,\n",
            "    text='*   On the NSE, the SBI share price is Rs 806.50 as of 1:00 PM IST.'\n",
            "  )\n",
            "), GroundingSupport(\n",
            "  grounding_chunk_indices=[\n",
            "    1,\n",
            "  ],\n",
            "  segment=Segment(\n",
            "    end_index=267,\n",
            "    start_index=202,\n",
            "    text='*   Another source indicates the SBI stock price today as 809.90.'\n",
            "  )\n",
            "), GroundingSupport(\n",
            "  grounding_chunk_indices=[\n",
            "    2,\n",
            "  ],\n",
            "  segment=Segment(\n",
            "    end_index=366,\n",
            "    start_index=268,\n",
            "    text='*   Angel One reports the SBI (SBIN) share price on NSE and BSE as Rs 805.15 as of August 6, 2025.'\n",
            "  )\n",
            "), GroundingSupport(\n",
            "  grounding_chunk_indices=[\n",
            "    3,\n",
            "  ],\n",
            "  segment=Segment(\n",
            "    end_index=443,\n",
            "    start_index=367,\n",
            "    text='*   INDmoney shows the SBI share price today at ₹800.5 as of 11:52 AM IST.'\n",
            "  )\n",
            "), GroundingSupport(\n",
            "  grounding_chunk_indices=[\n",
            "    0,\n",
            "  ],\n",
            "  segment=Segment(\n",
            "    end_index=528,\n",
            "    start_index=445,\n",
            "    text='The stock has seen a slight increase of 0.74% from its previous close of Rs 800.60.'\n",
            "  )\n",
            "), GroundingSupport(\n",
            "  grounding_chunk_indices=[\n",
            "    4,\n",
            "  ],\n",
            "  segment=Segment(\n",
            "    end_index=613,\n",
            "    start_index=529,\n",
            "    text='The 52-week high for SBI share price was Rs 875.5 and the 52-week low was Rs 679.65.'\n",
            "  )\n",
            ")] retrieval_metadata=None retrieval_queries=None search_entry_point=SearchEntryPoint(\n",
            "  rendered_content=\"\"\"<style>\n",
            ".container {\n",
            "  align-items: center;\n",
            "  border-radius: 8px;\n",
            "  display: flex;\n",
            "  font-family: Google Sans, Roboto, sans-serif;\n",
            "  font-size: 14px;\n",
            "  line-height: 20px;\n",
            "  padding: 8px 12px;\n",
            "}\n",
            ".chip {\n",
            "  display: inline-block;\n",
            "  border: solid 1px;\n",
            "  border-radius: 16px;\n",
            "  min-width: 14px;\n",
            "  padding: 5px 16px;\n",
            "  text-align: center;\n",
            "  user-select: none;\n",
            "  margin: 0 8px;\n",
            "  -webkit-tap-highlight-color: transparent;\n",
            "}\n",
            ".carousel {\n",
            "  overflow: auto;\n",
            "  scrollbar-width: none;\n",
            "  white-space: nowrap;\n",
            "  margin-right: -12px;\n",
            "}\n",
            ".headline {\n",
            "  display: flex;\n",
            "  margin-right: 4px;\n",
            "}\n",
            ".gradient-container {\n",
            "  position: relative;\n",
            "}\n",
            ".gradient {\n",
            "  position: absolute;\n",
            "  transform: translate(3px, -9px);\n",
            "  height: 36px;\n",
            "  width: 9px;\n",
            "}\n",
            "@media (prefers-color-scheme: light) {\n",
            "  .container {\n",
            "    background-color: #fafafa;\n",
            "    box-shadow: 0 0 0 1px #0000000f;\n",
            "  }\n",
            "  .headline-label {\n",
            "    color: #1f1f1f;\n",
            "  }\n",
            "  .chip {\n",
            "    background-color: #ffffff;\n",
            "    border-color: #d2d2d2;\n",
            "    color: #5e5e5e;\n",
            "    text-decoration: none;\n",
            "  }\n",
            "  .chip:hover {\n",
            "    background-color: #f2f2f2;\n",
            "  }\n",
            "  .chip:focus {\n",
            "    background-color: #f2f2f2;\n",
            "  }\n",
            "  .chip:active {\n",
            "    background-color: #d8d8d8;\n",
            "    border-color: #b6b6b6;\n",
            "  }\n",
            "  .logo-dark {\n",
            "    display: none;\n",
            "  }\n",
            "  .gradient {\n",
            "    background: linear-gradient(90deg, #fafafa 15%, #fafafa00 100%);\n",
            "  }\n",
            "}\n",
            "@media (prefers-color-scheme: dark) {\n",
            "  .container {\n",
            "    background-color: #1f1f1f;\n",
            "    box-shadow: 0 0 0 1px #ffffff26;\n",
            "  }\n",
            "  .headline-label {\n",
            "    color: #fff;\n",
            "  }\n",
            "  .chip {\n",
            "    background-color: #2c2c2c;\n",
            "    border-color: #3c4043;\n",
            "    color: #fff;\n",
            "    text-decoration: none;\n",
            "  }\n",
            "  .chip:hover {\n",
            "    background-color: #353536;\n",
            "  }\n",
            "  .chip:focus {\n",
            "    background-color: #353536;\n",
            "  }\n",
            "  .chip:active {\n",
            "    background-color: #464849;\n",
            "    border-color: #53575b;\n",
            "  }\n",
            "  .logo-light {\n",
            "    display: none;\n",
            "  }\n",
            "  .gradient {\n",
            "    background: linear-gradient(90deg, #1f1f1f 15%, #1f1f1f00 100%);\n",
            "  }\n",
            "}\n",
            "</style>\n",
            "<div class=\"container\">\n",
            "  <div class=\"headline\">\n",
            "    <svg class=\"logo-light\" width=\"18\" height=\"18\" viewBox=\"9 9 35 35\" fill=\"none\" xmlns=\"http://www.w3.org/2000/svg\">\n",
            "      <path fill-rule=\"evenodd\" clip-rule=\"evenodd\" d=\"M42.8622 27.0064C42.8622 25.7839 42.7525 24.6084 42.5487 23.4799H26.3109V30.1568H35.5897C35.1821 32.3041 33.9596 34.1222 32.1258 35.3448V39.6864H37.7213C40.9814 36.677 42.8622 32.2571 42.8622 27.0064V27.0064Z\" fill=\"#4285F4\"/>\n",
            "      <path fill-rule=\"evenodd\" clip-rule=\"evenodd\" d=\"M26.3109 43.8555C30.9659 43.8555 34.8687 42.3195 37.7213 39.6863L32.1258 35.3447C30.5898 36.3792 28.6306 37.0061 26.3109 37.0061C21.8282 37.0061 18.0195 33.9811 16.6559 29.906H10.9194V34.3573C13.7563 39.9841 19.5712 43.8555 26.3109 43.8555V43.8555Z\" fill=\"#34A853\"/>\n",
            "      <path fill-rule=\"evenodd\" clip-rule=\"evenodd\" d=\"M16.6559 29.8904C16.3111 28.8559 16.1074 27.7588 16.1074 26.6146C16.1074 25.4704 16.3111 24.3733 16.6559 23.3388V18.8875H10.9194C9.74388 21.2072 9.06992 23.8247 9.06992 26.6146C9.06992 29.4045 9.74388 32.022 10.9194 34.3417L15.3864 30.8621L16.6559 29.8904V29.8904Z\" fill=\"#FBBC05\"/>\n",
            "      <path fill-rule=\"evenodd\" clip-rule=\"evenodd\" d=\"M26.3109 16.2386C28.85 16.2386 31.107 17.1164 32.9095 18.8091L37.8466 13.8719C34.853 11.082 30.9659 9.3736 26.3109 9.3736C19.5712 9.3736 13.7563 13.245 10.9194 18.8875L16.6559 23.3388C18.0195 19.2636 21.8282 16.2386 26.3109 16.2386V16.2386Z\" fill=\"#EA4335\"/>\n",
            "    </svg>\n",
            "    <svg class=\"logo-dark\" width=\"18\" height=\"18\" viewBox=\"0 0 48 48\" xmlns=\"http://www.w3.org/2000/svg\">\n",
            "      <circle cx=\"24\" cy=\"23\" fill=\"#FFF\" r=\"22\"/>\n",
            "      <path d=\"M33.76 34.26c2.75-2.56 4.49-6.37 4.49-11.26 0-.89-.08-1.84-.29-3H24.01v5.99h8.03c-.4 2.02-1.5 3.56-3.07 4.56v.75l3.91 2.97h.88z\" fill=\"#4285F4\"/>\n",
            "      <path d=\"M15.58 25.77A8.845 8.845 0 0 0 24 31.86c1.92 0 3.62-.46 4.97-1.31l4.79 3.71C31.14 36.7 27.65 38 24 38c-5.93 0-11.01-3.4-13.45-8.36l.17-1.01 4.06-2.85h.8z\" fill=\"#34A853\"/>\n",
            "      <path d=\"M15.59 20.21a8.864 8.864 0 0 0 0 5.58l-5.03 3.86c-.98-2-1.53-4.25-1.53-6.64 0-2.39.55-4.64 1.53-6.64l1-.22 3.81 2.98.22 1.08z\" fill=\"#FBBC05\"/>\n",
            "      <path d=\"M24 14.14c2.11 0 4.02.75 5.52 1.98l4.36-4.36C31.22 9.43 27.81 8 24 8c-5.93 0-11.01 3.4-13.45 8.36l5.03 3.85A8.86 8.86 0 0 1 24 14.14z\" fill=\"#EA4335\"/>\n",
            "    </svg>\n",
            "    <div class=\"gradient-container\"><div class=\"gradient\"></div></div>\n",
            "  </div>\n",
            "  <div class=\"carousel\">\n",
            "    <a class=\"chip\" href=\"https://vertexaisearch.cloud.google.com/grounding-api-redirect/AUZIYQH9ZfUqN-C00sPzE9wOeDtkqvhVGcIJ1Onghr6K_p01f_CFHnYNduDIqF68OkLhNGGkT2_2dm1BqX428Qppb-3wEw1SbIG9sGEIB_W-3z9wZ2bvflpTX-o7lhalpOjQuMswPuqDemJMIwBb9_pGnCKsYzgwANoZ6azr9l74tnj5kegv5NOgF28Asme9jwtJgV_i6gFzWKTS_g==\">SBI stock value today</a>\n",
            "    <a class=\"chip\" href=\"https://vertexaisearch.cloud.google.com/grounding-api-redirect/AUZIYQEtj8HjmbyruzFyNxtI4QjAAetnVtNUBld8wnruxLBaVP9U0I9Ubpy1P_3Dvt78gWuDZD0nAmDmXwLt8mydHFoffN69cMypvbq7RCbO86Ww3QHXFXR4-N5M_VEuzp-bt9FhHcG-buysWSqMYvO2xhrreCPtKYJpJuOy1bFJW6i29-PFvN255iSxH7UB-yXWxtxav6oWiLC-xA==\">SBI share price today</a>\n",
            "  </div>\n",
            "</div>\n",
            "\"\"\"\n",
            ") web_search_queries=['SBI stock value today', 'SBI share price today']\n"
          ]
        },
        {
          "data": {
            "text/html": [
              "<style>\n",
              ".container {\n",
              "  align-items: center;\n",
              "  border-radius: 8px;\n",
              "  display: flex;\n",
              "  font-family: Google Sans, Roboto, sans-serif;\n",
              "  font-size: 14px;\n",
              "  line-height: 20px;\n",
              "  padding: 8px 12px;\n",
              "}\n",
              ".chip {\n",
              "  display: inline-block;\n",
              "  border: solid 1px;\n",
              "  border-radius: 16px;\n",
              "  min-width: 14px;\n",
              "  padding: 5px 16px;\n",
              "  text-align: center;\n",
              "  user-select: none;\n",
              "  margin: 0 8px;\n",
              "  -webkit-tap-highlight-color: transparent;\n",
              "}\n",
              ".carousel {\n",
              "  overflow: auto;\n",
              "  scrollbar-width: none;\n",
              "  white-space: nowrap;\n",
              "  margin-right: -12px;\n",
              "}\n",
              ".headline {\n",
              "  display: flex;\n",
              "  margin-right: 4px;\n",
              "}\n",
              ".gradient-container {\n",
              "  position: relative;\n",
              "}\n",
              ".gradient {\n",
              "  position: absolute;\n",
              "  transform: translate(3px, -9px);\n",
              "  height: 36px;\n",
              "  width: 9px;\n",
              "}\n",
              "@media (prefers-color-scheme: light) {\n",
              "  .container {\n",
              "    background-color: #fafafa;\n",
              "    box-shadow: 0 0 0 1px #0000000f;\n",
              "  }\n",
              "  .headline-label {\n",
              "    color: #1f1f1f;\n",
              "  }\n",
              "  .chip {\n",
              "    background-color: #ffffff;\n",
              "    border-color: #d2d2d2;\n",
              "    color: #5e5e5e;\n",
              "    text-decoration: none;\n",
              "  }\n",
              "  .chip:hover {\n",
              "    background-color: #f2f2f2;\n",
              "  }\n",
              "  .chip:focus {\n",
              "    background-color: #f2f2f2;\n",
              "  }\n",
              "  .chip:active {\n",
              "    background-color: #d8d8d8;\n",
              "    border-color: #b6b6b6;\n",
              "  }\n",
              "  .logo-dark {\n",
              "    display: none;\n",
              "  }\n",
              "  .gradient {\n",
              "    background: linear-gradient(90deg, #fafafa 15%, #fafafa00 100%);\n",
              "  }\n",
              "}\n",
              "@media (prefers-color-scheme: dark) {\n",
              "  .container {\n",
              "    background-color: #1f1f1f;\n",
              "    box-shadow: 0 0 0 1px #ffffff26;\n",
              "  }\n",
              "  .headline-label {\n",
              "    color: #fff;\n",
              "  }\n",
              "  .chip {\n",
              "    background-color: #2c2c2c;\n",
              "    border-color: #3c4043;\n",
              "    color: #fff;\n",
              "    text-decoration: none;\n",
              "  }\n",
              "  .chip:hover {\n",
              "    background-color: #353536;\n",
              "  }\n",
              "  .chip:focus {\n",
              "    background-color: #353536;\n",
              "  }\n",
              "  .chip:active {\n",
              "    background-color: #464849;\n",
              "    border-color: #53575b;\n",
              "  }\n",
              "  .logo-light {\n",
              "    display: none;\n",
              "  }\n",
              "  .gradient {\n",
              "    background: linear-gradient(90deg, #1f1f1f 15%, #1f1f1f00 100%);\n",
              "  }\n",
              "}\n",
              "</style>\n",
              "<div class=\"container\">\n",
              "  <div class=\"headline\">\n",
              "    <svg class=\"logo-light\" width=\"18\" height=\"18\" viewBox=\"9 9 35 35\" fill=\"none\" xmlns=\"http://www.w3.org/2000/svg\">\n",
              "      <path fill-rule=\"evenodd\" clip-rule=\"evenodd\" d=\"M42.8622 27.0064C42.8622 25.7839 42.7525 24.6084 42.5487 23.4799H26.3109V30.1568H35.5897C35.1821 32.3041 33.9596 34.1222 32.1258 35.3448V39.6864H37.7213C40.9814 36.677 42.8622 32.2571 42.8622 27.0064V27.0064Z\" fill=\"#4285F4\"/>\n",
              "      <path fill-rule=\"evenodd\" clip-rule=\"evenodd\" d=\"M26.3109 43.8555C30.9659 43.8555 34.8687 42.3195 37.7213 39.6863L32.1258 35.3447C30.5898 36.3792 28.6306 37.0061 26.3109 37.0061C21.8282 37.0061 18.0195 33.9811 16.6559 29.906H10.9194V34.3573C13.7563 39.9841 19.5712 43.8555 26.3109 43.8555V43.8555Z\" fill=\"#34A853\"/>\n",
              "      <path fill-rule=\"evenodd\" clip-rule=\"evenodd\" d=\"M16.6559 29.8904C16.3111 28.8559 16.1074 27.7588 16.1074 26.6146C16.1074 25.4704 16.3111 24.3733 16.6559 23.3388V18.8875H10.9194C9.74388 21.2072 9.06992 23.8247 9.06992 26.6146C9.06992 29.4045 9.74388 32.022 10.9194 34.3417L15.3864 30.8621L16.6559 29.8904V29.8904Z\" fill=\"#FBBC05\"/>\n",
              "      <path fill-rule=\"evenodd\" clip-rule=\"evenodd\" d=\"M26.3109 16.2386C28.85 16.2386 31.107 17.1164 32.9095 18.8091L37.8466 13.8719C34.853 11.082 30.9659 9.3736 26.3109 9.3736C19.5712 9.3736 13.7563 13.245 10.9194 18.8875L16.6559 23.3388C18.0195 19.2636 21.8282 16.2386 26.3109 16.2386V16.2386Z\" fill=\"#EA4335\"/>\n",
              "    </svg>\n",
              "    <svg class=\"logo-dark\" width=\"18\" height=\"18\" viewBox=\"0 0 48 48\" xmlns=\"http://www.w3.org/2000/svg\">\n",
              "      <circle cx=\"24\" cy=\"23\" fill=\"#FFF\" r=\"22\"/>\n",
              "      <path d=\"M33.76 34.26c2.75-2.56 4.49-6.37 4.49-11.26 0-.89-.08-1.84-.29-3H24.01v5.99h8.03c-.4 2.02-1.5 3.56-3.07 4.56v.75l3.91 2.97h.88z\" fill=\"#4285F4\"/>\n",
              "      <path d=\"M15.58 25.77A8.845 8.845 0 0 0 24 31.86c1.92 0 3.62-.46 4.97-1.31l4.79 3.71C31.14 36.7 27.65 38 24 38c-5.93 0-11.01-3.4-13.45-8.36l.17-1.01 4.06-2.85h.8z\" fill=\"#34A853\"/>\n",
              "      <path d=\"M15.59 20.21a8.864 8.864 0 0 0 0 5.58l-5.03 3.86c-.98-2-1.53-4.25-1.53-6.64 0-2.39.55-4.64 1.53-6.64l1-.22 3.81 2.98.22 1.08z\" fill=\"#FBBC05\"/>\n",
              "      <path d=\"M24 14.14c2.11 0 4.02.75 5.52 1.98l4.36-4.36C31.22 9.43 27.81 8 24 8c-5.93 0-11.01 3.4-13.45 8.36l5.03 3.85A8.86 8.86 0 0 1 24 14.14z\" fill=\"#EA4335\"/>\n",
              "    </svg>\n",
              "    <div class=\"gradient-container\"><div class=\"gradient\"></div></div>\n",
              "  </div>\n",
              "  <div class=\"carousel\">\n",
              "    <a class=\"chip\" href=\"https://vertexaisearch.cloud.google.com/grounding-api-redirect/AUZIYQH9ZfUqN-C00sPzE9wOeDtkqvhVGcIJ1Onghr6K_p01f_CFHnYNduDIqF68OkLhNGGkT2_2dm1BqX428Qppb-3wEw1SbIG9sGEIB_W-3z9wZ2bvflpTX-o7lhalpOjQuMswPuqDemJMIwBb9_pGnCKsYzgwANoZ6azr9l74tnj5kegv5NOgF28Asme9jwtJgV_i6gFzWKTS_g==\">SBI stock value today</a>\n",
              "    <a class=\"chip\" href=\"https://vertexaisearch.cloud.google.com/grounding-api-redirect/AUZIYQEtj8HjmbyruzFyNxtI4QjAAetnVtNUBld8wnruxLBaVP9U0I9Ubpy1P_3Dvt78gWuDZD0nAmDmXwLt8mydHFoffN69cMypvbq7RCbO86Ww3QHXFXR4-N5M_VEuzp-bt9FhHcG-buysWSqMYvO2xhrreCPtKYJpJuOy1bFJW6i29-PFvN255iSxH7UB-yXWxtxav6oWiLC-xA==\">SBI share price today</a>\n",
              "  </div>\n",
              "</div>\n"
            ],
            "text/plain": [
              "<IPython.core.display.HTML object>"
            ]
          },
          "execution_count": 28,
          "metadata": {},
          "output_type": "execute_result"
        }
      ],
      "source": [
        "google_search_tool= Tool(google_search=GoogleSearch)\n",
        "response=client.models.generate_content(\n",
        "    model=MODEL_ID,\n",
        "    contents=\"sbi stock value today and todays date\",\n",
        "    config=GenerateContentConfig(\n",
        "        tools=[google_search_tool]\n",
        "    )\n",
        ")\n",
        "display(Markdown(response.text))\n",
        "print (response.candidates[0].grounding_metadata)\n",
        "HTML(response.candidates[0].grounding_metadata.search_entry_point.rendered_content)"
      ]
    },
    {
      "cell_type": "code",
      "execution_count": null,
      "metadata": {
        "id": "dEkbJDEr_vj0"
      },
      "outputs": [],
      "source": [
        "!pip install -q google-generativeai gradio pillow"
      ]
    },
    {
      "cell_type": "code",
      "execution_count": null,
      "metadata": {
        "id": "lgHIYFwRD5LP"
      },
      "outputs": [],
      "source": [
        "from IPython.display import HTML, Image, Markdown, display\n",
        "from google import genai\n",
        "from google.genai.types import (\n",
        "    FunctionDeclaration,\n",
        "    GenerateContentConfig,\n",
        "    GoogleSearch,\n",
        "    HarmBlockThreshold,\n",
        "    HarmCategory,\n",
        "    Part,\n",
        "    SafetySetting,\n",
        "    ThinkingConfig,\n",
        "    Tool,\n",
        "    ToolCodeExecution,\n",
        "    Content,\n",
        "    Part\n",
        ")"
      ]
    },
    {
      "cell_type": "code",
      "execution_count": null,
      "metadata": {
        "id": "9v-d6MzbD48H"
      },
      "outputs": [],
      "source": [
        "from google.colab import userdata\n",
        "from google import genai\n",
        "\n",
        "\n",
        "\n",
        "GOOGLE_API_KEY = userdata.get('GOOGLE_API_KEY')\n",
        "client = genai.Client(api_key=GOOGLE_API_KEY)\n"
      ]
    },
    {
      "cell_type": "code",
      "execution_count": null,
      "metadata": {
        "id": "tx7EynTYD4ov"
      },
      "outputs": [],
      "source": [
        "import gradio as gr\n"
      ]
    },
    {
      "cell_type": "code",
      "execution_count": null,
      "metadata": {
        "colab": {
          "base_uri": "https://localhost:8080/",
          "height": 646
        },
        "id": "wH9xfyEapDQI",
        "outputId": "a73bfd72-96a8-4fd2-cf81-a900f619625b"
      },
      "outputs": [
        {
          "output_type": "stream",
          "name": "stderr",
          "text": [
            "/usr/local/lib/python3.11/dist-packages/gradio/chat_interface.py:345: UserWarning: The 'tuples' format for chatbot messages is deprecated and will be removed in a future version of Gradio. Please set type='messages' instead, which uses openai-style 'role' and 'content' keys.\n",
            "  self.chatbot = Chatbot(\n"
          ]
        },
        {
          "output_type": "stream",
          "name": "stdout",
          "text": [
            "Colab notebook detected. This cell will run indefinitely so that you can see errors and logs. To turn off, set debug=False in launch().\n",
            "* Running on public URL: https://d0805cf9e85d43b31f.gradio.live\n",
            "\n",
            "This share link expires in 1 week. For free permanent hosting and GPU upgrades, run `gradio deploy` from the terminal in the working directory to deploy to Hugging Face Spaces (https://huggingface.co/spaces)\n"
          ]
        },
        {
          "output_type": "display_data",
          "data": {
            "text/plain": [
              "<IPython.core.display.HTML object>"
            ],
            "text/html": [
              "<div><iframe src=\"https://d0805cf9e85d43b31f.gradio.live\" width=\"100%\" height=\"500\" allow=\"autoplay; camera; microphone; clipboard-read; clipboard-write;\" frameborder=\"0\" allowfullscreen></iframe></div>"
            ]
          },
          "metadata": {}
        }
      ],
      "source": [
        "from logging import debug\n",
        "import gradio as gr\n",
        "from google.colab import userdata\n",
        "from google import genai\n",
        "from google.genai.types import(\n",
        "    Tool,GoogleSearch,GenerateContentConfig,Content,Part\n",
        ")\n",
        "\n",
        "#import the model\n",
        "MODEL_ID=\"gemini-2.0-flash\"\n",
        "\n",
        "#set the tool\n",
        "google_search_tool=Tool(google_search=GoogleSearch())\n",
        "system_instruction=\"\"\"You are Ajiet Bot, the friendly and knowledgeable virtual assistant for the A.J. Institute of Engineering and Technology (AJIET) help desk. Your primary purpose is to provide accurate and helpful information about the institution, its programs, facilities, and general processes to prospective students, current students, parents, and the general public.\n",
        "\n",
        "Persona & Tone:\n",
        "*   Be welcoming, professional, and informative.\n",
        "*   Maintain a polite, clear, and concise communication style.\n",
        "*   Emphasize helpfulness and a positive representation of AJIET.\n",
        "\n",
        "Knowledge & Context:\n",
        "*   Your responses must be based solely on official information pertaining to A.J. Institute of Engineering and Technology, as found on its official website (www.ajiet.edu.in) and other reliable institutional data.\n",
        "*   Do not invent, speculate, or \"hallucinate\" information. If you do not have the answer, politely state that and guide the user on how to find it or whom to contact.\n",
        "\n",
        "Key Information Areas You Can Cover:\n",
        "*   About AJIET: General information about the institute, its establishment (2016), affiliation (VTU, AICTE), mission, and values. [2, 4, 6]\n",
        "*   Academic Programs: Details on B.E./B.Tech specializations (Civil, Computer Science & Engineering, ECE, ISE, Mechanical, CSE with AI & ML), MBA, MCA, and PhD programs. [2, 4, 5, 7, 8]\n",
        "*   Admissions: General overview of the admission process, eligibility criteria, and directing users to the official admissions page for application specifics. [4, 5]\n",
        "*   Departments: Information about the various engineering departments, Basic Science and Humanity, MBA, and MCA. [2, 7, 8]\n",
        "*   Campus Facilities: Details on facilities like hostels, laboratories, canteen, gym, medical services, library, sports, and student clubs. [5, 10]\n",
        "*   Placements & Career Guidance: General information about the Training & Placement Department, its objectives, and success rates (referencing median salaries if specifically requested and available in your knowledge base). [4, 9]\n",
        "*   Events & Activities: Information about workshops, technical talks, fests (like 'AJIET AAKAR'), cultural days, and other campus activities. [3, 10]\n",
        "*   Contact Information: Directing users to the official contact page, admissions office, or specific department contacts for detailed queries.\n",
        "\n",
        "Capabilities:\n",
        "*   Answer FAQs: Provide direct answers to common questions about AJIET.\n",
        "*   Information Retrieval: Extract and present relevant details from the provided knowledge base.\n",
        "*   Clarification: Ask clarifying questions if a user's query is ambiguous (e.g., \"Are you asking about B.E. Civil Engineering or the Civil Engineering Department in general?\").\n",
        "\n",
        "Limitations & Escalation Protocol:\n",
        "*   Do not process applications, registrations, or handle sensitive personal information.\n",
        "*   Do not provide real-time updates on individual student records, application statuses, or financial transactions.\n",
        "*   Escalate when necessary: If a query requires personal data, specific application support, financial details, or a human decision, you must inform the user that you cannot assist directly.\n",
        "    *   Politely state your limitation (e.g., \"I cannot access individual application details.\").\n",
        "    *   Direct the user to the appropriate official resource (e.g., \"For detailed admission inquiries or to check your application status, please visit the Admissions section of our website at www.ajiet.edu.in/admissions or contact the admissions office directly via [phone number/email].\").\n",
        "    *   For general information that is missing from your knowledge base, you can suggest: \"I don't have that specific information at the moment, but you might find it on our official website or by contacting the relevant department.\"\n",
        "\n",
        "Response Format & Guidelines:\n",
        "*   Keep responses concise and easy to read.\n",
        "*   Use bullet points or numbered lists for presenting multiple pieces of information or steps.\n",
        "*   Always conclude by offering further assistance: \"Is there anything else I can help you with regarding AJIET?\n",
        "* \"\"\"\n",
        "#initialize chat history\n",
        "chat_history=[]\n",
        "\n",
        "#define the chat function\n",
        "def grounded_chat(user_input,history):\n",
        "  global chat_history\n",
        "  try:\n",
        "    #add user message as part object\n",
        "    user_message= Content(role=\"user\",parts=[Part(text=user_input)])\n",
        "    chat_history.append(user_message)\n",
        "    #generate response using tool\n",
        "    response=client.models.generate_content(\n",
        "        model=MODEL_ID,\n",
        "        contents=chat_history,\n",
        "        config=GenerateContentConfig(\n",
        "            tools=[google_search_tool],\n",
        "            system_instruction=system_instruction\n",
        "            )\n",
        "      ) #add model response\n",
        "    model_reply=Content(role=\"model\",parts=[Part(text=response.text)])\n",
        "    chat_history.append(model_reply)\n",
        "    return response.text\n",
        "  except Exception as e:\n",
        "    return  (str(e))\n",
        "\n",
        "#gradio\n",
        "gr.ChatInterface(fn=grounded_chat,\n",
        "title=\"AJIET Help desk with google search grounding\",\n",
        "theme=\"default\"\n",
        ").launch(share=True,debug=True)"
      ]
    }
  ],
  "metadata": {
    "colab": {
      "provenance": [],
      "authorship_tag": "ABX9TyPMfJ1eGyYIuUk3c1fI/hJk",
      "include_colab_link": true
    },
    "kernelspec": {
      "display_name": "Python 3",
      "name": "python3"
    },
    "language_info": {
      "name": "python"
    }
  },
  "nbformat": 4,
  "nbformat_minor": 0
}